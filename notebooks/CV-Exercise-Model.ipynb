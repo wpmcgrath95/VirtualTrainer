{
    "cells": [
        {
            "cell_type": "code",
            "execution_count": 23,
            "source": [
                "import os\n",
                "import cv2\n",
                "import numpy as np\n",
                "import pandas as pd\n",
                "from ast import literal_eval"
            ],
            "outputs": [],
            "metadata": {}
        },
        {
            "cell_type": "markdown",
            "source": [
                "## Gloabl Variables and Paths"
            ],
            "metadata": {}
        },
        {
            "cell_type": "code",
            "execution_count": 268,
            "source": [
                "# paths\n",
                "THIS_PATH = os.getcwd()\n",
                "HOME_PATH =  os.path.expanduser('~')\n",
                "QHACKS_PATH = os.path.join(HOME_PATH, 'Desktop', 'QHacks')\n",
                "DEADLIFT_VIDEO_PATH = os.path.join(QHACKS_PATH, 'raw_deadlift_videos')\n",
                "BAD_DEADLIFT_IMAGE_PATH = os.path.join(QHACKS_PATH , 'bad_deadlift_images')\n",
                "GOOD_DEADLIFT_IMAGE_PATH = os.path.join(QHACKS_PATH , 'good_deadlift_images')\n",
                "\n",
                "BAD_LABELED_DEADLIFT_IMAGE_PATH = os.path.join(QHACKS_PATH , 'bad_labeled_deadlift_images_resized')\n",
                "GOOD_LABELED_DEADLIFT_IMAGE_PATH = os.path.join(QHACKS_PATH , 'good_labeled_deadlift_images_resized')\n",
                "\n",
                "# csv paths\n",
                "CSV_PATH = os.path.join(QHACKS_PATH, 'annotations')\n",
                "\n",
                "# resized image shape - 368x368\n",
                "IMG_HEIGHT = 368\n",
                "IMG_WIDTH = 368"
            ],
            "outputs": [],
            "metadata": {}
        },
        {
            "cell_type": "markdown",
            "source": [
                "## Convert Videos into Images"
            ],
            "metadata": {}
        },
        {
            "cell_type": "code",
            "execution_count": 3,
            "source": [
                "# get all videos in directory for each class\n",
                "all_deadlift_videos = os.listdir(DEADLIFT_VIDEO_PATH)\n",
                "all_deadlift_videos = [video for video in all_deadlift_videos if '.mp4' in video]\n",
                "all_deadlift_videos"
            ],
            "outputs": [
                {
                    "output_type": "execute_result",
                    "data": {
                        "text/plain": [
                            "['BadDeadlift11.mp4',\n",
                            " 'BadDeadlift10.mp4',\n",
                            " 'BadDeadlift9.mp4',\n",
                            " 'BadDeadlift8.mp4',\n",
                            " 'Deadlifts4.mp4',\n",
                            " 'Deadlift14.mp4',\n",
                            " 'Deadlift9.mp4',\n",
                            " 'Deadlift10.mp4',\n",
                            " 'Deadlifts3.mp4',\n",
                            " 'Deadlift8.mp4',\n",
                            " 'Deadlift13.mp4',\n",
                            " 'Deadlifts1.mp4',\n",
                            " 'Deadlift12.mp4',\n",
                            " 'Deadlift6.mp4',\n",
                            " 'Deadlift7.mp4',\n",
                            " 'Deadlift5.mp4',\n",
                            " 'BadDeadlift5.mp4',\n",
                            " 'BadDeadlift4.mp4',\n",
                            " 'BadDeadlift6.mp4',\n",
                            " 'BadDeadlift7.mp4',\n",
                            " 'BadDeadlift3.mp4',\n",
                            " 'BadDeadlift2.mp4',\n",
                            " 'BadDeadlift1.mp4']"
                        ]
                    },
                    "metadata": {},
                    "execution_count": 3
                }
            ],
            "metadata": {}
        },
        {
            "cell_type": "code",
            "execution_count": 4,
            "source": [
                "def get_frames(video_path, location, count, sec):\n",
                "    video_name = video_path.split('/')[-1]\n",
                "    filename = video_name.split('.')[0]\n",
                "    \n",
                "    vidcap = cv2.VideoCapture(video_path)\n",
                "    vidcap.set(cv2.CAP_PROP_POS_MSEC, sec*1000)\n",
                "    hasFrames,image = vidcap.read()\n",
                "    if hasFrames:\n",
                "        image_name = filename + \"_\" + str(count) + \".jpg\"\n",
                "        path = os.path.join(location, image_name)\n",
                "        cv2.imwrite(path, image) \n",
                "\n",
                "    return hasFrames"
            ],
            "outputs": [],
            "metadata": {}
        },
        {
            "cell_type": "code",
            "execution_count": 5,
            "source": [
                "def convert_video_to_images(video_path, location, frame_rate):\n",
                "    sec = 0\n",
                "    count = 1\n",
                "\n",
                "    # first image\n",
                "    success = get_frames(video_path, location, count, sec)\n",
                "    # rest of the images\n",
                "    while success:\n",
                "        count = count + 1\n",
                "        sec = sec + frame_rate\n",
                "        sec = np.round(sec, 2)\n",
                "        success = get_frames(video_path, location, count, sec)\n",
                "\n",
                "    return None"
            ],
            "outputs": [],
            "metadata": {}
        },
        {
            "cell_type": "code",
            "execution_count": null,
            "source": [
                "for video in all_deadlift_videos:\n",
                "    video_path = os.path.join(DEADLIFT_VIDEO_PATH, video)\n",
                "    if 'Bad' in video:\n",
                "        location = BAD_DEADLIFT_IMAGE_PATH\n",
                "    else:\n",
                "        location = GOOD_DEADLIFT_IMAGE_PATH\n",
                "\n",
                "    convert_video_to_images(video_path=video_path, location=location, frame_rate=0.1) # 0.033 is 60 imgs/sec"
            ],
            "outputs": [],
            "metadata": {}
        },
        {
            "cell_type": "markdown",
            "source": [
                "## Preprocessing\n",
                "- resize\n",
                "- center crop images\n",
                "- rename images to prevent target leakage"
            ],
            "metadata": {}
        },
        {
            "cell_type": "code",
            "execution_count": 249,
            "source": [
                "# all annotated csv paths\n",
                "annotation_csv_paths = [os.path.join(CSV_PATH, csv) for csv in os.listdir(CSV_PATH) if '.csv' in csv] "
            ],
            "outputs": [],
            "metadata": {}
        },
        {
            "cell_type": "code",
            "execution_count": 280,
            "source": [
                "def get_annotations(csv_path):\n",
                "    # read csv file and create new dataframe to get rectangle coords\n",
                "    annotation_df = pd.read_csv(csv_path, sep=',')\n",
                "    annotation_df = annotation_df[['filename', 'region_shape_attributes', 'region_attributes']]\n",
                "\n",
                "    # convert str of dicts to actual dicts and expand cols, then concat new cols to dataframe\n",
                "    region_shape_df = pd.json_normalize(annotation_df['region_shape_attributes'].apply(lambda x: literal_eval(x)))\n",
                "    region_attr_df =  pd.json_normalize(annotation_df['region_attributes'].apply(lambda x: literal_eval(x.replace('true', '1'))))\n",
                "    annotation_df = pd.concat([annotation_df, region_shape_df, region_attr_df], axis=1)\n",
                "\n",
                "    # get rid of blank images (nans) and change col name\n",
                "    annotation_df = annotation_df[pd.notnull(annotation_df['x'])]\n",
                "    annotation_df.rename(columns={'class.good':'good'},inplace=True)\n",
                "    annotation_df['good'] = annotation_df['good'].astype('int')\n",
                "\n",
                "    # convert rect to coordinate form\n",
                "    annotation_df['x1'] = annotation_df['x'].astype('int')\n",
                "    annotation_df['y1'] = annotation_df['y'].astype('int')\n",
                "    annotation_df['x2'] = (annotation_df['x'] + annotation_df['width']).astype('int')\n",
                "    annotation_df['y2'] = (annotation_df['x'] + annotation_df['height']).astype('int')\n",
                "\n",
                "    # drop cols\n",
                "    annotation_df.drop(['region_shape_attributes', 'region_attributes', 'name', 'x', 'y', 'width', 'height'], axis=1, inplace=True)\n",
                "\n",
                "    return annotation_df"
            ],
            "outputs": [],
            "metadata": {}
        },
        {
            "cell_type": "code",
            "execution_count": 283,
            "source": [
                "def resize_image(csv_path):\n",
                "    annotation_df = get_annotations(csv_path)\n",
                "    for indx, row in annotation_df.iterrows():\n",
                "        img_name = row['filename']\n",
                "        if 'good' in annotation_df.columns:\n",
                "            img_path = os.path.join(GOOD_DEADLIFT_IMAGE_PATH, img_name)\n",
                "            new_img_path = os.path.join(GOOD_LABELED_DEADLIFT_IMAGE_PATH, img_name)\n",
                "        else: \n",
                "            img_path = os.path.join(BAD_DEADLIFT_IMAGE_PATH, img_name)\n",
                "            new_img_path = os.path.join(BAD_LABELED_DEADLIFT_IMAGE_PATH, img_name[img_name.find('D'):])\n",
                "\n",
                "        # crop image to new coordinates and then resize image\n",
                "        try:\n",
                "            img = cv2.imread(img_path)\n",
                "            cropped_img = img[row['y1']:row['y2'], row['x1']:row['x2']]\n",
                "            resized_img = cv2.resize(cropped_img, (IMG_HEIGHT, IMG_WIDTH), interpolation=cv2.INTER_AREA)\n",
                "\n",
                "            # save new image\n",
                "            cv2.imwrite(new_img_path, resized_img)\n",
                "\n",
                "        except:\n",
                "            print(f'Image Error: {img_name}')\n",
                "\n",
                "    return None"
            ],
            "outputs": [],
            "metadata": {}
        },
        {
            "cell_type": "code",
            "execution_count": 284,
            "source": [
                "resize_image(annotation_csv_paths[0])"
            ],
            "outputs": [],
            "metadata": {}
        },
        {
            "cell_type": "code",
            "execution_count": null,
            "source": [],
            "outputs": [],
            "metadata": {}
        }
    ],
    "metadata": {
        "orig_nbformat": 4,
        "language_info": {
            "name": "python",
            "version": "3.8.3",
            "mimetype": "text/x-python",
            "codemirror_mode": {
                "name": "ipython",
                "version": 3
            },
            "pygments_lexer": "ipython3",
            "nbconvert_exporter": "python",
            "file_extension": ".py"
        },
        "kernelspec": {
            "name": "python3",
            "display_name": "Python 3.8.3 64-bit ('env': venv)"
        },
        "interpreter": {
            "hash": "26d7db634e3307ed2e87ff4f8b188e1cf44ce1ae33bfe635d26a25f10798d4e3"
        }
    },
    "nbformat": 4,
    "nbformat_minor": 2
}