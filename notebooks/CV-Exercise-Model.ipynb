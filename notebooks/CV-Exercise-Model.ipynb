{
    "cells": [
        {
            "cell_type": "code",
            "execution_count": 45,
            "source": [
                "import os\n",
                "import cv2\n",
                "import numpy as np"
            ],
            "outputs": [],
            "metadata": {}
        },
        {
            "cell_type": "markdown",
            "source": [
                "## Gloabl Variables and Paths"
            ],
            "metadata": {}
        },
        {
            "cell_type": "code",
            "execution_count": 46,
            "source": [
                "# paths\n",
                "THIS_PATH = os.getcwd()\n",
                "HOME_PATH =  os.path.expanduser('~')\n",
                "DEADLIFT_VIDEO_PATH = os.path.join(HOME_PATH, 'Desktop', 'QHacks', 'raw_deadlift_videos')\n",
                "BAD_DEADLIFT_IMAGE_PATH = os.path.join(HOME_PATH, 'Desktop', 'QHacks', 'bad_deadlift_images')\n",
                "GOOD_DEADLIFT_IMAGE_PATH = os.path.join(HOME_PATH, 'Desktop', 'QHacks', 'good_deadlift_images')"
            ],
            "outputs": [],
            "metadata": {}
        },
        {
            "cell_type": "markdown",
            "source": [
                "## Convert Videos into Images"
            ],
            "metadata": {}
        },
        {
            "cell_type": "code",
            "execution_count": 47,
            "source": [
                "# get all videos in directory for each class\n",
                "all_deadlift_videos = os.listdir(DEADLIFT_VIDEO_PATH)\n",
                "all_deadlift_videos = [video for video in all_deadlift_videos if '.mp4' in video]\n",
                "all_deadlift_videos"
            ],
            "outputs": [
                {
                    "output_type": "execute_result",
                    "data": {
                        "text/plain": [
                            "['BadDeadlift11.mp4',\n",
                            " 'BadDeadlift10.mp4',\n",
                            " 'BadDeadlift9.mp4',\n",
                            " 'BadDeadlift8.mp4',\n",
                            " 'Deadlifts4.mp4',\n",
                            " 'Deadlift14.mp4',\n",
                            " 'Deadlift9.mp4',\n",
                            " 'Deadlift10.mp4',\n",
                            " 'Deadlifts3.mp4',\n",
                            " 'Deadlift8.mp4',\n",
                            " 'Deadlift13.mp4',\n",
                            " 'Deadlifts1.mp4',\n",
                            " 'Deadlift12.mp4',\n",
                            " 'Deadlift6.mp4',\n",
                            " 'Deadlift7.mp4',\n",
                            " 'Deadlift5.mp4',\n",
                            " 'BadDeadlift5.mp4',\n",
                            " 'BadDeadlift4.mp4',\n",
                            " 'BadDeadlift6.mp4',\n",
                            " 'BadDeadlift7.mp4',\n",
                            " 'BadDeadlift3.mp4',\n",
                            " 'BadDeadlift2.mp4',\n",
                            " 'BadDeadlift1.mp4']"
                        ]
                    },
                    "metadata": {},
                    "execution_count": 47
                }
            ],
            "metadata": {}
        },
        {
            "cell_type": "code",
            "execution_count": 75,
            "source": [
                "def get_frames(video_path, location, count, sec):\n",
                "    video_name = video_path.split('/')[-1]\n",
                "    filename = video_name.split('.')[0]\n",
                "    \n",
                "    vidcap = cv2.VideoCapture(video_path)\n",
                "    vidcap.set(cv2.CAP_PROP_POS_MSEC, sec*1000)\n",
                "    hasFrames,image = vidcap.read()\n",
                "    if hasFrames:\n",
                "        image_name = filename + \"_\" + str(count) + \".jpg\"\n",
                "        path = os.path.join(location, image_name)\n",
                "        cv2.imwrite(path, image) \n",
                "\n",
                "    return hasFrames"
            ],
            "outputs": [],
            "metadata": {}
        },
        {
            "cell_type": "code",
            "execution_count": 76,
            "source": [
                "def convert_video_to_images(video_path, location, frame_rate):\n",
                "    sec = 0\n",
                "    count = 1\n",
                "\n",
                "    # first image\n",
                "    success = get_frames(video_path, location, count, sec)\n",
                "    # rest of the images\n",
                "    while success:\n",
                "        count = count + 1\n",
                "        sec = sec + frame_rate\n",
                "        sec = np.round(sec, 2)\n",
                "        success = get_frames(video_path, location, count, sec)\n",
                "\n",
                "    return None"
            ],
            "outputs": [],
            "metadata": {}
        },
        {
            "cell_type": "code",
            "execution_count": 78,
            "source": [
                "for video in all_deadlift_videos:\n",
                "    video_path = os.path.join(DEADLIFT_VIDEO_PATH, video)\n",
                "    if 'Bad' in video:\n",
                "        location = BAD_DEADLIFT_IMAGE_PATH\n",
                "    else:\n",
                "        location = GOOD_DEADLIFT_IMAGE_PATH\n",
                "\n",
                "    convert_video_to_images(video_path=video_path, location=location, frame_rate=0.1) # 0.033 is 60 imgs/sec"
            ],
            "outputs": [],
            "metadata": {}
        }
    ],
    "metadata": {
        "orig_nbformat": 4,
        "language_info": {
            "name": "python",
            "version": "3.8.3",
            "mimetype": "text/x-python",
            "codemirror_mode": {
                "name": "ipython",
                "version": 3
            },
            "pygments_lexer": "ipython3",
            "nbconvert_exporter": "python",
            "file_extension": ".py"
        },
        "kernelspec": {
            "name": "python3",
            "display_name": "Python 3.8.3 64-bit ('env': venv)"
        },
        "interpreter": {
            "hash": "26d7db634e3307ed2e87ff4f8b188e1cf44ce1ae33bfe635d26a25f10798d4e3"
        }
    },
    "nbformat": 4,
    "nbformat_minor": 2
}